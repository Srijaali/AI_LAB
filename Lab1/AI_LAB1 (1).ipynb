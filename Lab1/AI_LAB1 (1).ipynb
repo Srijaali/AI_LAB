{
  "nbformat": 4,
  "nbformat_minor": 0,
  "metadata": {
    "colab": {
      "provenance": []
    },
    "kernelspec": {
      "name": "python3",
      "display_name": "Python 3"
    },
    "language_info": {
      "name": "python"
    }
  },
  "cells": [
    {
      "cell_type": "markdown",
      "source": [
        "1. The Environment:\n",
        "\n",
        "○ The external system with which the agent interacts. It provides percepts\n",
        "(sensory inputs) and responds to the agent’s actions.\n",
        "\n",
        "class Environment:\n",
        "def __init__(self, initial_state):\n",
        "\n",
        "self.initial_state = initial_state #Initial state could be fixed or random\n",
        "\n",
        "def get_percept(self):\n",
        "\n",
        "(initial condition of environment , that would be perceived by agent)\n",
        "\n",
        "pass"
      ],
      "metadata": {
        "id": "MiIyGKLLmakN"
      }
    },
    {
      "cell_type": "markdown",
      "source": [
        "2. The Agent:\n",
        "\n",
        "○ The decision-making entity that perceives its environment and takes\n",
        "actions to achieve a goal.\n",
        "\n",
        "class SimpleReflexAgent:\n",
        "\n",
        "def __init__(self):\n",
        "\n",
        "pass\n",
        "\n",
        "def act(self, percept):\n",
        "\n",
        "(Determine action based on the initial percept)\n",
        "\n",
        "pass"
      ],
      "metadata": {
        "id": "ZY0D_hwwnHz2"
      }
    },
    {
      "cell_type": "markdown",
      "source": [
        "3. The Agent Program:\n",
        "\n",
        "○ The internal mechanism that determines the actions the agent takes\n",
        "based on its precepts.\n",
        "\n",
        "This interaction allows the agent to move within the environment and perform its\n",
        "functions effectively. The following example demonstrates these components with a\n",
        "simple reflex agent.\n",
        "\n",
        "def run_agent(agent, environment):\n",
        "\n",
        "( The agent reacts to the initial stimulus/Percept)\n",
        "\n",
        "percept = environment.get_percept()\n",
        "\n",
        "action = agent.act(percept)\n",
        "\n",
        "print(f\"Percept: {percept}, Action: {action}\")\n",
        "\n",
        "( Create instances of agent and environment)\n",
        "\n",
        "agent = SimpleReflexAgent()\n",
        "\n",
        "environment = Environment(initial_state=0) # Start with any\n",
        "initial condition (high/low , 1/0, True/False , high/med/low etc\n",
        "based on scenario)\n",
        "\n",
        "( Run the agent in the environment (only once))\n",
        "\n",
        "run_agent(agent, environment)"
      ],
      "metadata": {
        "id": "Lx_XlyMlnkg0"
      }
    },
    {
      "cell_type": "code",
      "source": [
        "#sample code of a vaccum cleaner\n",
        "#Environment Class: Environment Represents the state of the environment, which can be either \"Dirty\" or \"Clean\".#\n",
        "class Environment:\n",
        "  def __init__(self , state='dirty'):\n",
        "    self.state=state\n",
        "\n",
        "  def get_percept(self):\n",
        "    return self.state\n",
        "\n",
        "  def clean_room(self):\n",
        "    self.state='clean'\n",
        "\n",
        "#Agent Class: SimpleReflexAgent Decides actions based on percepts (the current state of the environment).\n",
        "class SimpleReflexAgent:\n",
        "  def __init__(self):\n",
        "    pass\n",
        "  def act(self, percept):\n",
        "    if percept == 'Dirty':\n",
        "      return 'Clean the room'\n",
        "    else:\n",
        "      return 'Room is already clean'\n",
        "\n",
        "#Simulation Function: run_agent(agent, environment, steps)\n",
        "# ● Simulates interactions between the agent and the environment for a specified\n",
        "# number of steps.\n",
        "# ● Prints the percept and action for each step.\n",
        "def run_agent(agent, environment, steps):\n",
        "    for step in range(steps):\n",
        "      percept = environment.get_percept()\n",
        "      action = agent.act(percept)\n",
        "      print(f\"Step {step + 1}: Percept - {percept}, Action -{action}\")\n",
        "      if percept == 'Dirty':\n",
        "        environment.clean_room()\n",
        "\n",
        "# Create instances of agent and environment\n",
        "agent = SimpleReflexAgent()\n",
        "environment = Environment()\n",
        "# Run the agent in the environment for 5 steps\n",
        "run_agent(agent, environment, 5)"
      ],
      "metadata": {
        "colab": {
          "base_uri": "https://localhost:8080/"
        },
        "id": "oFqxz86PpK9W",
        "outputId": "6c4263f3-8fe2-4182-a2af-061a6fa0616f"
      },
      "execution_count": 4,
      "outputs": [
        {
          "output_type": "stream",
          "name": "stdout",
          "text": [
            "Step 1: Percept - dirty, Action -Room is already clean\n",
            "Step 2: Percept - dirty, Action -Room is already clean\n",
            "Step 3: Percept - dirty, Action -Room is already clean\n",
            "Step 4: Percept - dirty, Action -Room is already clean\n",
            "Step 5: Percept - dirty, Action -Room is already clean\n"
          ]
        }
      ]
    },
    {
      "cell_type": "markdown",
      "source": [
        "Task # 1:\n",
        "\n",
        "A company’s security system consists of nine critical components (A through I). Each\n",
        "component can be either safe or vulnerable due to security flaws. A security agent is\n",
        "responsible for scanning the entire system, identifying vulnerabilities, and patching\n",
        "them to prevent attacks.\n",
        "\n",
        "You are tasked with simulating a cybersecurity exercise using the given environment\n",
        "and agent.\n",
        "\n",
        " Complete the following steps:\n",
        "\n",
        "● Initial System Check:\n",
        "○ The system environment is initialized with random vulnerabilities.\n",
        "Display the initial state of the system, showing which components are safe\n",
        "and which are vulnerable.\n",
        "\n",
        "● System Scan:\n",
        "○ The security agent scans each component. If a component is vulnerable,\n",
        "the agent logs a warning and adds it to a list for patching. If it is secure, a\n",
        "success message is logged.\n",
        "\n",
        "● Patching Vulnerabilities:\n",
        "○ After the scan, the agent patches all vulnerable components, marking\n",
        "them as safe. Display messages indicating which components have been\n",
        "patched.\n",
        "\n",
        "● Final System Check:\n",
        "○ Display the system’s final state, confirming that all vulnerabilities have\n",
        "been patched."
      ],
      "metadata": {
        "id": "QvkZcQcqs-2Q"
      }
    },
    {
      "cell_type": "code",
      "source": [
        "import random\n",
        "\n",
        "class Environment:\n",
        "  def __init__(self):\n",
        "    self.components = ['A','B','C','D','E','F','G','H','I']\n",
        "    #self.state = for component in components (random.choice(['safe','vulnerable']))\n",
        "    self.state = {component: random.choice(['safe', 'vulnerable']) for component in self.components}\n",
        "\n",
        "  def get_percept(self):\n",
        "    #for component in self.components:\n",
        "     return self.state\n",
        "\n",
        "class SimpleReflexAgent:\n",
        "   def __init__(self):\n",
        "    self.patching = []\n",
        "\n",
        "    def system_scan(self,environment):\n",
        "     state = environment.get_percept()\n",
        "       for component, component_state in state.items():\n",
        "            if component_state == 'safe':\n",
        "                print(f\"Component {component} is secure and can be logged in.\")\n",
        "            elif component_state == 'vulnerable':\n",
        "                print(f\"Component {component} is not secure.. WARNING!!!\")\n",
        "                self.patching.append(component)\n",
        "\n",
        "    def patching_vulnerabilities(self,environment):\n",
        "      for component in self.patching:\n",
        "            environment.state[component] = 'safe'\n",
        "            print(f\"{component} is now marked as safe.\")\n",
        "\n",
        "\n",
        "def run_agent(agent, environment):\n",
        "    # Run the agent to scan the system and patch vulnerabilities\n",
        "    print(\"Scanning the system...\")\n",
        "    agent.system_scan(environment)\n",
        "    print(\"\\nPatching vulnerabilities...\")\n",
        "    agent.patching_vulnerabilities(environment)\n",
        "\n",
        "# Create the environment and agent objects\n",
        "agent = SimpleReflexAgent()\n",
        "environment = Environment()\n",
        "\n",
        "# Run the agent in the environment\n",
        "run_agent(agent, environment)"
      ],
      "metadata": {
        "colab": {
          "base_uri": "https://localhost:8080/",
          "height": 106
        },
        "id": "tsF-8LYCtG2X",
        "outputId": "b3b6fc6c-a5cc-4375-d7d6-a7662c315fe8"
      },
      "execution_count": 14,
      "outputs": [
        {
          "output_type": "error",
          "ename": "IndentationError",
          "evalue": "unexpected indent (<ipython-input-14-012431de0f68>, line 19)",
          "traceback": [
            "\u001b[0;36m  File \u001b[0;32m\"<ipython-input-14-012431de0f68>\"\u001b[0;36m, line \u001b[0;32m19\u001b[0m\n\u001b[0;31m    for component, component_state in state.items():\u001b[0m\n\u001b[0m    ^\u001b[0m\n\u001b[0;31mIndentationError\u001b[0m\u001b[0;31m:\u001b[0m unexpected indent\n"
          ]
        }
      ]
    },
    {
      "cell_type": "code",
      "source": [
        "import random\n",
        "\n",
        "class Environment:\n",
        "    def __init__(self):\n",
        "        # Components of the system\n",
        "        self.components = ['A', 'B', 'C', 'D', 'E', 'F', 'G', 'H', 'I']\n",
        "        # State of each component: randomly assign 'safe' or 'vulnerable'\n",
        "        self.state = {component: random.choice(['safe', 'vulnerable']) for component in self.components}\n",
        "\n",
        "    def get_percept(self):\n",
        "        # Return the state of all components\n",
        "        return self.state\n",
        "\n",
        "class SimpleReflexAgent:\n",
        "    def __init__(self):\n",
        "        self.patching = []\n",
        "\n",
        "    def system_scan(self, environment):\n",
        "        # Get the state of the environment\n",
        "        state = environment.get_percept()\n",
        "\n",
        "        # Scan through each component in the environment\n",
        "        for component, component_state in state.items():\n",
        "            if component_state == 'safe':\n",
        "                print(f\"Component {component} is secure and can be logged in.\")\n",
        "            elif component_state == 'vulnerable':\n",
        "                print(f\"Component {component} is not secure.. WARNING!!!\")\n",
        "                self.patching.append(component)\n",
        "\n",
        "    def patching_vulnerabilities(self, environment):\n",
        "        # Patch the vulnerabilities by changing their state to 'safe'\n",
        "        for component in self.patching:\n",
        "            environment.state[component] = 'safe'\n",
        "            print(f\"{component} is now marked as safe.\")\n",
        "\n",
        "def run_agent(agent, environment):\n",
        "    # Run the agent to scan the system and patch vulnerabilities\n",
        "    print(\"Scanning the system...\")\n",
        "    agent.system_scan(environment)\n",
        "    print(\"\\nPatching vulnerabilities...\")\n",
        "    agent.patching_vulnerabilities(environment)\n",
        "\n",
        "# Create the environment and agent objects\n",
        "agent = SimpleReflexAgent()\n",
        "environment = Environment()\n",
        "\n",
        "# Run the agent in the environment\n",
        "run_agent(agent, environment)\n"
      ],
      "metadata": {
        "colab": {
          "base_uri": "https://localhost:8080/"
        },
        "id": "0Nu8TFUQ526m",
        "outputId": "41b1e5a6-aca3-4936-9799-c7ec51ec4bf3"
      },
      "execution_count": 15,
      "outputs": [
        {
          "output_type": "stream",
          "name": "stdout",
          "text": [
            "Scanning the system...\n",
            "Component A is not secure.. WARNING!!!\n",
            "Component B is secure and can be logged in.\n",
            "Component C is not secure.. WARNING!!!\n",
            "Component D is not secure.. WARNING!!!\n",
            "Component E is secure and can be logged in.\n",
            "Component F is not secure.. WARNING!!!\n",
            "Component G is not secure.. WARNING!!!\n",
            "Component H is not secure.. WARNING!!!\n",
            "Component I is not secure.. WARNING!!!\n",
            "\n",
            "Patching vulnerabilities...\n",
            "A is now marked as safe.\n",
            "C is now marked as safe.\n",
            "D is now marked as safe.\n",
            "F is now marked as safe.\n",
            "G is now marked as safe.\n",
            "H is now marked as safe.\n",
            "I is now marked as safe.\n"
          ]
        }
      ]
    }
  ]
}