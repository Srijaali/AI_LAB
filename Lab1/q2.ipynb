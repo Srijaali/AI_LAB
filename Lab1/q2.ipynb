{
  "nbformat": 4,
  "nbformat_minor": 0,
  "metadata": {
    "colab": {
      "provenance": []
    },
    "kernelspec": {
      "name": "python3",
      "display_name": "Python 3"
    },
    "language_info": {
      "name": "python"
    }
  },
  "cells": [
    {
      "cell_type": "code",
      "execution_count": 34,
      "metadata": {
        "colab": {
          "base_uri": "https://localhost:8080/"
        },
        "id": "h5yfIBm3-4uf",
        "outputId": "651647c5-fefe-456a-a3e8-b2a9dd97c86e"
      },
      "outputs": [
        {
          "output_type": "stream",
          "name": "stdout",
          "text": [
            "server scan: \n",
            "Initial State: \n",
            "Server1: Underloaded\n",
            "Server2: Balanced\n",
            "Server3: Overloaded\n",
            "Server4: Overloaded\n",
            "Server5: Underloaded\n",
            "\n",
            "Balancing done: Moved from server3 to server1\n",
            "\n",
            "Balancing done: Moved from server4 to server5\n",
            "\n",
            "Displaying servers afetr balancing: \n",
            "Server1: Balanced\n",
            "Server2: Balanced\n",
            "Server3: Balanced\n",
            "Server4: Balanced\n",
            "Server5: Balanced\n"
          ]
        }
      ],
      "source": [
        "\"\"\"A data center runs multiple servers, each hosting different services. These services are\n",
        "either underloaded, balanced, or overloaded based on the system's load. The Load\n",
        "Balancer Agent is responsible for redistributing tasks across the servers to ensure\n",
        "optimal system performance.\n",
        "Task:\n",
        "● Create a system with 5 servers.\n",
        "● Each server has a load state of \"Underloaded\", \"Balanced\", or \"Overloaded\".\n",
        "● The Load Balancer Agent must scan the system and move tasks from overloaded\n",
        "servers to underloaded ones to balance the load.\n",
        "● After balancing the load, display the updated load status of each server.\"\"\"\n",
        "import random\n",
        "\n",
        "class Environment:\n",
        "    def __init__(self):\n",
        "        self.servers = [1,2,3,4,5]\n",
        "        self.load_state = {server:random.choice(['Underloaded' , 'Balanced' , 'Overloaded']) for server in self.servers}\n",
        "\n",
        "    def get_percept(self):\n",
        "        return self.load_state\n",
        "\n",
        "class Load_Balancer_Agent:\n",
        "    def __init__(self):\n",
        "        pass\n",
        "\n",
        "    def scan(self,environment):\n",
        "        load_state = environment.get_percept()\n",
        "\n",
        "        print(\"Initial State: \")\n",
        "        for server,status in load_state.items():\n",
        "          print(f\"Server{server}: {status}\")\n",
        "\n",
        "        overloaded = []\n",
        "        underloaded = []\n",
        "\n",
        "        for server,status in load_state.items():\n",
        "          if status == 'Overloaded':\n",
        "              overloaded.append(server)\n",
        "          elif status == 'Underloaded':\n",
        "              underloaded.append(server)\n",
        "\n",
        "        if not overloaded or not underloaded:\n",
        "          print(\"NO BALANCING NEEDED\")\n",
        "          return\n",
        "\n",
        "        while overloaded and underloaded:\n",
        "            move_from = overloaded.pop(0)\n",
        "            move_to = underloaded.pop(0)\n",
        "\n",
        "            load_state[move_from] = 'Balanced'\n",
        "            load_state[move_to]='Balanced'\n",
        "\n",
        "            print(f\"\\nBalancing done: Moved from server{move_from} to server{move_to}\")\n",
        "\n",
        "\n",
        "    def display_load(self,environment):\n",
        "        for server,status  in environment.get_percept().items():\n",
        "            print(f\"Server{server}: {status}\")\n",
        "\n",
        "def run_agent(agent,environment):\n",
        "    print(\"server scan: \")\n",
        "    agent.scan(environment)\n",
        "    print(\"\\nDisplaying servers afetr balancing: \")\n",
        "    agent.display_load(environment)\n",
        "\n",
        "agent = Load_Balancer_Agent()\n",
        "environment = Environment()\n",
        "\n",
        "run_agent(agent,environment)\n",
        "\n",
        "\n",
        "\n",
        "\n",
        "\n",
        "\n",
        "\n"
      ]
    }
  ]
}