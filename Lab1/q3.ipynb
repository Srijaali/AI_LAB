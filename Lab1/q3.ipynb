{
 "cells": [
  {
   "cell_type": "code",
   "execution_count": 1,
   "metadata": {},
   "outputs": [
    {
     "name": "stdout",
     "output_type": "stream",
     "text": [
      "Initial Status: \n",
      "Task1:Completed\n",
      "Task2:Completed\n",
      "Task3:Failed\n",
      "Retrying failed tasks: \n",
      "Task3 has been retried and completed\n",
      "Updated List:\n",
      "Task1: Completed\n",
      "Task2: Completed\n",
      "Task3: Completed\n"
     ]
    }
   ],
   "source": [
    "# A network of servers has a set of backup tasks that need to be completed regularly. Some\n",
    "# backups are successful, while others fail. The Backup Management Agent is responsible for\n",
    "# ensuring all failed backups are retried and completed.\n",
    "# Task:\n",
    "# ● Create a list of backup tasks with either \"Completed\" or \"Failed\" statuses.\n",
    "# ● The Backup Management Agent scans for failed backups and retries them.\n",
    "# # ● After retrying, display the updated task statuses\n",
    "\n",
    "import random\n",
    "\n",
    "class Environment:\n",
    "    def __init__(self):\n",
    "        #for instance taking 3 tasks\n",
    "        self.tasks = [1,2,3]\n",
    "        self.state = {task:random.choice(['Completed','Failed'])for task in self.tasks}\n",
    "\n",
    "    def get_percept(self):\n",
    "        return self.state\n",
    "    \n",
    "class Backup_Management_Agent:\n",
    "    def __init__(self):\n",
    "        pass\n",
    "\n",
    "    def scan(self,environment):\n",
    "\n",
    "        state = environment.get_percept()\n",
    "\n",
    "        completed = []\n",
    "        failed = []\n",
    "\n",
    "        print(\"Initial Status: \")\n",
    "        for task,status in state.items():\n",
    "            print(f\"Task{task}:{status}\")\n",
    "            if status == 'Completed':\n",
    "                completed.append(task)\n",
    "            elif status == \"Failed\":\n",
    "                failed.append(task)\n",
    "\n",
    "        print(\"Retrying failed tasks: \")\n",
    "        for task in failed:\n",
    "            state[task]='Completed'\n",
    "            print(f\"Task{task} has been retried and completed\")\n",
    "\n",
    "        print(\"Updated List:\")\n",
    "        for task,status in state.items():\n",
    "            print(f\"Task{task}: {status}\")\n",
    "\n",
    "environment = Environment()\n",
    "agent = Backup_Management_Agent()\n",
    "agent.scan(environment)\n",
    "\n",
    "        \n",
    "\n",
    "\n",
    "\n",
    "\n",
    "        "
   ]
  }
 ],
 "metadata": {
  "kernelspec": {
   "display_name": "Python 3",
   "language": "python",
   "name": "python3"
  },
  "language_info": {
   "codemirror_mode": {
    "name": "ipython",
    "version": 3
   },
   "file_extension": ".py",
   "mimetype": "text/x-python",
   "name": "python",
   "nbconvert_exporter": "python",
   "pygments_lexer": "ipython3",
   "version": "3.12.4"
  }
 },
 "nbformat": 4,
 "nbformat_minor": 2
}
