{
  "nbformat": 4,
  "nbformat_minor": 0,
  "metadata": {
    "colab": {
      "provenance": []
    },
    "kernelspec": {
      "name": "python3",
      "display_name": "Python 3"
    },
    "language_info": {
      "name": "python"
    }
  },
  "cells": [
    {
      "cell_type": "markdown",
      "source": [
        "Task 1"
      ],
      "metadata": {
        "id": "om75-Eg99dA9"
      }
    },
    {
      "cell_type": "code",
      "source": [
        "import heapq\n",
        "\n",
        "def get_neighbors(maze, node):\n",
        "    directions = [(0, 1), (1, 0), (0, -1), (-1, 0)]\n",
        "    neighbors = []\n",
        "    for dx, dy in directions:\n",
        "        x, y = node[0] + dx, node[1] + dy\n",
        "        if 0 <= x < len(maze) and 0 <= y < len(maze[0]) and maze[x][y] != '#':  # Check boundaries & walls\n",
        "            neighbors.append((x, y))\n",
        "    return neighbors\n",
        "\n",
        "def heuristic(pos, goals):\n",
        "    if not goals:\n",
        "        return 0\n",
        "    return min(abs(pos[0] - g[0]) + abs(pos[1] - g[1]) for g in goals)\n",
        "\n",
        "def a_star_multi_goal(maze, start, goals):\n",
        "    pq = []  # Priority queue\n",
        "    visited = set()\n",
        "    start_state = (0, start, frozenset())  # (cost, position, visited_goals)\n",
        "\n",
        "    heapq.heappush(pq, start_state)\n",
        "\n",
        "    while pq:\n",
        "        cost, current, visited_goals = heapq.heappop(pq)\n",
        "\n",
        "\n",
        "        if visited_goals == frozenset(goals):\n",
        "            return cost\n",
        "\n",
        "        if (current, visited_goals) in visited:\n",
        "            continue\n",
        "        visited.add((current, visited_goals))\n",
        "\n",
        "        for neighbor in get_neighbors(maze, current):\n",
        "            new_visited_goals = visited_goals | {neighbor} if neighbor in goals else visited_goals\n",
        "            new_cost = cost + 1\n",
        "            priority = new_cost + heuristic(neighbor, goals - new_visited_goals)\n",
        "            heapq.heappush(pq, (priority, neighbor, new_visited_goals))\n",
        "\n",
        "    return -1\n",
        "\n",
        "\n",
        "maze = [\n",
        "    ['S', '.', '.', '#', 'G'],\n",
        "    ['.', '#', '.', '.', '.'],\n",
        "    ['.', '.', '#', 'G', '.'],\n",
        "    ['#', '.', '.', '.', '.'],\n",
        "    ['G', '.', '#', '.', 'G']\n",
        "]\n",
        "\n",
        "\n",
        "start = None\n",
        "goals = set()\n",
        "for i in range(len(maze)):\n",
        "    for j in range(len(maze[0])):\n",
        "        if maze[i][j] == 'S':\n",
        "            start = (i, j)\n",
        "        elif maze[i][j] == 'G':\n",
        "            goals.add((i, j))\n",
        "\n",
        "\n",
        "result = a_star_multi_goal(maze, start, goals)\n",
        "print(\"Shortest Path Length Visiting All Goals:\", result)\n"
      ],
      "metadata": {
        "colab": {
          "base_uri": "https://localhost:8080/"
        },
        "id": "VzfLdzBZTFbE",
        "outputId": "4b72c0ea-7361-41b6-abf0-f4ee1ae61d84"
      },
      "execution_count": 3,
      "outputs": [
        {
          "output_type": "stream",
          "name": "stdout",
          "text": [
            "Shortest Path Length Visiting All Goals: 54\n"
          ]
        }
      ]
    },
    {
      "cell_type": "markdown",
      "source": [
        "task 2: Q2. Implement an A* Search where the edge costs change dynamically at random\n",
        "intervals. The algorithm should adapt to these changes and always find the\n",
        "optimal path. Recompute and adjust paths in real time without restarting the\n",
        "algorithm from scratch."
      ],
      "metadata": {
        "id": "dmMOLaznTFCi"
      }
    },
    {
      "cell_type": "code",
      "source": [
        "import heapq\n",
        "import random\n",
        "\n",
        "class DynamicAStar:\n",
        "    def __init__(self, grid, start, goal):\n",
        "        self.grid = grid\n",
        "        self.start = start\n",
        "        self.goal = goal\n",
        "        self.rows = len(grid)\n",
        "        self.cols = len(grid[0])\n",
        "\n",
        "    def heuristic(self, pos):\n",
        "        return abs(pos[0] - self.goal[0]) + abs(pos[1] - self.goal[1])\n",
        "\n",
        "    def get_neighbors(self, node):\n",
        "        directions = [(0,1), (1,0), (0,-1), (-1,0)]\n",
        "        neighbors = []\n",
        "        for dx, dy in directions:\n",
        "            x, y = node[0] + dx, node[1] + dy\n",
        "            if 0 <= x < self.rows and 0 <= y < self.cols and self.grid[x][y] != '#':\n",
        "                neighbors.append((x, y))\n",
        "        return neighbors\n",
        "\n",
        "    def a_star(self):\n",
        "        open_set = [(0, self.start)]\n",
        "        g_costs = {self.start: 0}\n",
        "        came_from = {}\n",
        "\n",
        "        while open_set:\n",
        "            _, current = heapq.heappop(open_set)\n",
        "\n",
        "            if current == self.goal:\n",
        "                return self.reconstruct_path(came_from)\n",
        "\n",
        "            for neighbor in self.get_neighbors(current):\n",
        "                new_cost = g_costs[current] + self.grid[neighbor[0]][neighbor[1]]\n",
        "\n",
        "                if neighbor not in g_costs or new_cost < g_costs[neighbor]:\n",
        "                    g_costs[neighbor] = new_cost\n",
        "                    f_cost = new_cost + self.heuristic(neighbor)\n",
        "                    heapq.heappush(open_set, (f_cost, neighbor))\n",
        "                    came_from[neighbor] = current\n",
        "\n",
        "        return None\n",
        "\n",
        "    def reconstruct_path(self, came_from):\n",
        "        path = []\n",
        "        node = self.goal\n",
        "        while node in came_from:\n",
        "            path.append(node)\n",
        "            node = came_from[node]\n",
        "        path.append(self.start)\n",
        "        return path[::-1]\n",
        "\n",
        "    def change_edge_costs(self):\n",
        "        for _ in range(2):  # Change 2 random edges\n",
        "            x, y = random.randint(0, self.rows-1), random.randint(0, self.cols-1)\n",
        "            if self.grid[x][y] not in ['#', self.start, self.goal]:\n",
        "                self.grid[x][y] = random.randint(1, 9)\n",
        "\n",
        "        print(\"Edge costs updated!\")\n",
        "        return self.a_star()  # Recompute path\n",
        "\n",
        "\n",
        "grid = [\n",
        "    [1, 1, 1, '#', 1],\n",
        "    [1, '#', 1, 1, 1],\n",
        "    [1, 1, '#', 1, 1],\n",
        "    ['#', 1, 1, 1, 1],\n",
        "    [1, 1, '#', 1, 1]\n",
        "]\n",
        "\n",
        "start = (0, 0)\n",
        "goal = (4, 4)\n",
        "\n",
        "astar = DynamicAStar(grid, start, goal)\n",
        "path = astar.a_star()\n",
        "print(\"Initial Path:\", path)\n",
        "\n",
        "new_path = astar.change_edge_costs()\n",
        "print(\"Updated Path:\", new_path)\n"
      ],
      "metadata": {
        "colab": {
          "base_uri": "https://localhost:8080/"
        },
        "id": "Msc497kUTKDo",
        "outputId": "16ac5997-3ed7-4cf5-c3c6-68134cf96f50"
      },
      "execution_count": 6,
      "outputs": [
        {
          "output_type": "stream",
          "name": "stdout",
          "text": [
            "Initial Path: [(0, 0), (0, 1), (0, 2), (1, 2), (1, 3), (1, 4), (2, 4), (3, 4), (4, 4)]\n",
            "Edge costs updated!\n",
            "Updated Path: [(0, 0), (0, 1), (0, 2), (1, 2), (1, 3), (2, 3), (3, 3), (4, 3), (4, 4)]\n"
          ]
        }
      ]
    },
    {
      "cell_type": "markdown",
      "source": [
        "Q3. Delivery Route Optimization with Time Windows\n",
        "● Description: Using the Greedy Best-First Search, optimize delivery routes for a\n",
        "set of delivery points. Each delivery point has a specific time window for delivery,\n",
        "and the algorithm must prioritize those with stricter deadlines.\n",
        "● Challenge: Ensure that the algorithm handles time constraints efficiently while\n",
        "minimizing total travel distance."
      ],
      "metadata": {
        "id": "3Hci3silTnwF"
      }
    },
    {
      "cell_type": "code",
      "source": [
        "import heapq\n",
        "\n",
        "class DeliveryRouteOptimizer:\n",
        "    def __init__(self, start, deliveries):\n",
        "        self.start = start\n",
        "        self.deliveries = deliveries\n",
        "        self.current_time = 0\n",
        "        self.route = []\n",
        "\n",
        "    def distance(self, point1, point2):\n",
        "        return abs(point1[0] - point2[0]) + abs(point1[1] - point2[1])\n",
        "\n",
        "    def greedy_best_first_search(self):\n",
        "        priority_queue = []\n",
        "\n",
        "\n",
        "        for d in self.deliveries:\n",
        "            x, y, t_start, t_end = d\n",
        "            heapq.heappush(priority_queue, (t_end, x, y, t_start, t_end))  # (priority, x, y, t_start, t_end)\n",
        "\n",
        "        current_location = self.start\n",
        "\n",
        "        while priority_queue:\n",
        "            possible_deliveries = []\n",
        "\n",
        "\n",
        "            while priority_queue:\n",
        "                t_end, x, y, t_start, t_end = heapq.heappop(priority_queue)\n",
        "                travel_time = self.distance(current_location, (x, y))\n",
        "\n",
        "\n",
        "                if self.current_time + travel_time <= t_end:\n",
        "                    possible_deliveries.append((travel_time, x, y, t_start, t_end))\n",
        "\n",
        "            if not possible_deliveries:\n",
        "                break  # No more feasible deliveries\n",
        "\n",
        "\n",
        "            possible_deliveries.sort()\n",
        "            travel_time, x, y, t_start, t_end = possible_deliveries[0]\n",
        "\n",
        "\n",
        "            self.current_time += travel_time\n",
        "            current_location = (x, y)\n",
        "            self.route.append((x, y, self.current_time))  # Store completed delivery\n",
        "\n",
        "\n",
        "            self.deliveries = [d for d in self.deliveries if (d[0], d[1]) != (x, y)]\n",
        "\n",
        "\n",
        "            priority_queue = []\n",
        "            for d in self.deliveries:\n",
        "                x, y, t_start, t_end = d\n",
        "                heapq.heappush(priority_queue, (t_end, x, y, t_start, t_end))\n",
        "\n",
        "        return self.route\n",
        "\n",
        "start_location = (0, 0)  # Warehouse\n",
        "deliveries = [\n",
        "    (2, 3, 2, 10),\n",
        "    (5, 1, 4, 8),\n",
        "    (1, 6, 1, 7),\n",
        "    (4, 4, 3, 12),\n",
        "    (3, 2, 2, 9)\n",
        "]\n",
        "\n",
        "\n",
        "optimizer = DeliveryRouteOptimizer(start_location, deliveries)\n",
        "optimized_route = optimizer.greedy_best_first_search()\n",
        "\n",
        "print(\"\\nOptimized Delivery Route (x, y, arrival time):\")\n",
        "for stop in optimized_route:\n",
        "    print(stop)\n"
      ],
      "metadata": {
        "colab": {
          "base_uri": "https://localhost:8080/"
        },
        "id": "N7btVn4_TpC6",
        "outputId": "34dd5148-fc6c-4e78-94fb-95444c06cd87"
      },
      "execution_count": 5,
      "outputs": [
        {
          "output_type": "stream",
          "name": "stdout",
          "text": [
            "\n",
            "Optimized Delivery Route (x, y, arrival time):\n",
            "(2, 3, 5)\n",
            "(3, 2, 7)\n",
            "(4, 4, 10)\n"
          ]
        }
      ]
    }
  ]
}