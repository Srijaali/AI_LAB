{
  "nbformat": 4,
  "nbformat_minor": 0,
  "metadata": {
    "colab": {
      "provenance": []
    },
    "kernelspec": {
      "name": "python3",
      "display_name": "Python 3"
    },
    "language_info": {
      "name": "python"
    }
  },
  "cells": [
    {
      "cell_type": "markdown",
      "source": [
        "# sample code"
      ],
      "metadata": {
        "id": "om75-Eg99dA9"
      }
    },
    {
      "cell_type": "code",
      "execution_count": null,
      "metadata": {
        "colab": {
          "base_uri": "https://localhost:8080/"
        },
        "id": "9LFuAunC7zZC",
        "outputId": "a31561ca-0e49-410f-e066-c7618ee88074"
      },
      "outputs": [
        {
          "output_type": "stream",
          "name": "stdout",
          "text": [
            "Best-First Search Path:\n",
            "A B C E F \n",
            "Goal reached!\n"
          ]
        },
        {
          "output_type": "execute_result",
          "data": {
            "text/plain": [
              "True"
            ]
          },
          "metadata": {},
          "execution_count": 3
        }
      ],
      "source": [
        "from queue import PriorityQueue\n",
        "\n",
        "# Example graph represented as an adjacency list\n",
        "graph = {\n",
        "    'A': [('B', 5), ('C', 8)],\n",
        "    'B': [('D', 10)],\n",
        "    'C': [('E', 3)],\n",
        "    'D': [('F', 7)],\n",
        "    'E': [('F', 2)],\n",
        "    'F': []\n",
        "}\n",
        "\n",
        "def best_first_search(graph, start, goal):\n",
        "    visited = set()\n",
        "    pq = PriorityQueue()\n",
        "    pq.put((0, start))  # priority queue with priority as the heuristic value\n",
        "\n",
        "    while not pq.empty():\n",
        "        cost, node = pq.get()\n",
        "\n",
        "        if node not in visited:\n",
        "            print(node, end=' ')\n",
        "            visited.add(node)\n",
        "\n",
        "        if node == goal:\n",
        "            print(\"\\nGoal reached!\")\n",
        "            return True\n",
        "\n",
        "        # Explore neighbors\n",
        "        for neighbor, weight in graph[node]:\n",
        "            if neighbor not in visited:\n",
        "                pq.put((weight, neighbor))\n",
        "\n",
        "    # If we finish the loop and haven't found the goal\n",
        "    print(\"\\nGoal not reachable!\")\n",
        "    return False\n",
        "\n",
        "# Example usage:\n",
        "print(\"Best-First Search Path:\")\n",
        "best_first_search(graph, 'A', 'F')\n"
      ]
    },
    {
      "cell_type": "markdown",
      "source": [
        "**Greedy bfs:**\n",
        "\n",
        "**How Heuristics Affect the Pathfinding: **\n",
        "\n",
        "The heuristic values directly influence the order in which nodes are expanded.\n",
        "In this case, nodes with lower heuristic values are prioritized, meaning the algorithm explores those first.\n",
        "\n",
        "If the heuristic were set incorrectly (e.g., all heuristics set to 0), the algorithm would behave like a Depth-First Search, exploring nodes in an arbitrary order based on graph structure rather than guided by an estimate of the cost to the goal\n",
        "\n",
        "**Limitations of GBFS:**\n",
        "\n",
        "Greedy Best-First Search is not guaranteed to find the shortest path because it only looks at the heuristic and doesn't consider the cost to reach the current node.\n",
        "It might explore nodes in a way that leads to suboptimal solutions or longer paths."
      ],
      "metadata": {
        "id": "H8HCwB4qBqIp"
      }
    },
    {
      "cell_type": "code",
      "source": [
        "# Graph with different edge costs\n",
        "graph = {\n",
        "'A': {'B': 2, 'C': 1},\n",
        "'B': {'D': 4, 'E': 3},\n",
        "'C': {'F': 1, 'G': 5},\n",
        "'D': {'H': 2},\n",
        "'E': {},\n",
        "'F': {'I': 6},\n",
        "'G': {},\n",
        "'H': {},\n",
        "'I': {}\n",
        "}\n",
        "# Heuristic function (estimated cost to reach goal 'I')\n",
        "heuristic = {\n",
        "'A': 7,\n",
        "'B': 6,\n",
        "'C': 5,\n",
        "'D': 4,\n",
        "'E': 7,\n",
        "'F': 3,\n",
        "'G': 6,\n",
        "'H': 2,\n",
        "'I': 0 # Goal node\n",
        "}\n",
        "\n",
        "\n",
        "# Greedy Best-First Search Function (without heapq)\n",
        "def greedy_bfs(graph, start, goal):\n",
        "  frontier = [(start, heuristic[start])] # List-based priority queue(sorted manually)\n",
        "  visited = set() # Set to keep track of visited nodes\n",
        "  came_from = {start: None} # Path reconstruction\n",
        "  while frontier:\n",
        "# Sort frontier manually by heuristic value (ascending order)\n",
        "    frontier.sort(key=lambda x: x[1])\n",
        "    #current_node, _ is tuple unpacking, where the first value of the popped item is assigned to current_node, and the second value is assigned to _.\n",
        "    current_node, _ = frontier.pop(0) # Get node with best heuristic\n",
        "    if current_node in visited:\n",
        "      continue\n",
        "\n",
        "  print(current_node, end=\" \") # Print visited node\n",
        "  visited.add(current_node)\n",
        "\n",
        "# If goal is reached, reconstruct path\n",
        "  if current_node == goal:\n",
        "    path = []\n",
        "    while current_node is not None:\n",
        "      path.append(current_node)\n",
        "      current_node = came_from[current_node]\n",
        "      path.reverse()\n",
        "      print(f\"\\nGoal found with GBFS. Path: {path}\")\n",
        "      return\n",
        "\n",
        "# Expand neighbors based on heuristic\n",
        "  for neighbor in graph[current_node]:\n",
        "    if neighbor not in visited:\n",
        "      came_from[neighbor] = current_node\n",
        "      frontier.append((neighbor, heuristic[neighbor]))\n",
        "\n",
        "\n",
        "\n",
        "print(\"\\nGoal not found\")\n",
        "# Run Greedy Best-First Search\n",
        "print(\"\\nFollowing is the Greedy Best-First Search (GBFS):\")\n",
        "greedy_bfs(graph, 'A', 'I')"
      ],
      "metadata": {
        "colab": {
          "base_uri": "https://localhost:8080/"
        },
        "id": "wgVDYHTT_48U",
        "outputId": "9680d737-d8d9-4568-839c-227674fcd4e2"
      },
      "execution_count": null,
      "outputs": [
        {
          "output_type": "stream",
          "name": "stdout",
          "text": [
            "\n",
            "Goal not found\n",
            "\n",
            "Following is the Greedy Best-First Search (GBFS):\n",
            "A "
          ]
        }
      ]
    },
    {
      "cell_type": "markdown",
      "source": [
        "A* search:"
      ],
      "metadata": {
        "id": "MsCpAeZMCuOd"
      }
    },
    {
      "cell_type": "code",
      "source": [
        "# Graph with different edge costs\n",
        "graph = {\n",
        "    'A': {'B': 2, 'C': 1},\n",
        "    'B': {'D': 4, 'E': 3},\n",
        "    'C': {'F': 1, 'G': 5},\n",
        "    'D': {'H': 2},\n",
        "    'E': {},\n",
        "    'F': {'I': 6},\n",
        "    'G': {},\n",
        "    'H': {},\n",
        "    'I': {}\n",
        "}\n",
        "\n",
        "# Heuristic function (estimated cost to reach goal 'I')\n",
        "heuristic = {\n",
        "    'A': 7,\n",
        "    'B': 6,\n",
        "    'C': 5,\n",
        "    'D': 4,\n",
        "    'E': 7,\n",
        "    'F': 3,\n",
        "    'G': 6,\n",
        "    'H': 2,\n",
        "    'I': 0  # Goal node\n",
        "}\n",
        "\n",
        "# A* Search Function\n",
        "def a_star(graph, start, goal):\n",
        "    frontier = [(start, 0 + heuristic[start])]  # List-based priority queue (sorted manually)\n",
        "    visited = set()  # Set to keep track of visited nodes\n",
        "    g_costs = {start: 0}  # Cost to reach each node from start\n",
        "    came_from = {start: None}  # Path reconstruction\n",
        "\n",
        "    while frontier:\n",
        "        # Sort frontier by f(n) = g(n) + h(n)\n",
        "        frontier.sort(key=lambda x: x[1])\n",
        "        current_node, current_f = frontier.pop(0)  # Get node with lowest f(n)\n",
        "\n",
        "        if current_node in visited:\n",
        "            continue\n",
        "\n",
        "        print(current_node, end=\" \")  # Print visited node\n",
        "        visited.add(current_node)\n",
        "\n",
        "        # If goal is reached, reconstruct path\n",
        "        if current_node == goal:\n",
        "            path = []\n",
        "            while current_node is not None:\n",
        "                path.append(current_node)\n",
        "                current_node = came_from[current_node]\n",
        "            path.reverse()\n",
        "            print(f\"\\nGoal found with A*. Path: {path}\")\n",
        "            return\n",
        "\n",
        "        # Explore neighbors\n",
        "        for neighbor, cost in graph[current_node].items():\n",
        "            new_g_cost = g_costs[current_node] + cost  # Path cost from start to neighbor\n",
        "            f_cost = new_g_cost + heuristic[neighbor]  # f(n) = g(n) + h(n)\n",
        "\n",
        "            # If neighbor is not in g_costs or found a cheaper path\n",
        "            if neighbor not in g_costs or new_g_cost < g_costs[neighbor]:\n",
        "                g_costs[neighbor] = new_g_cost\n",
        "                came_from[neighbor] = current_node\n",
        "                frontier.append((neighbor, f_cost))\n",
        "\n",
        "    print(\"\\nGoal not found\")  # If we exit the loop without finding the goal\n",
        "\n",
        "# Run A* Search\n",
        "print(\"\\nFollowing is the A* Search:\")\n",
        "a_star(graph, 'A', 'I')\n"
      ],
      "metadata": {
        "colab": {
          "base_uri": "https://localhost:8080/"
        },
        "id": "VatGu7TkCwcc",
        "outputId": "2d210ac5-a5f8-43a9-e6d4-af3718872fe6"
      },
      "execution_count": null,
      "outputs": [
        {
          "output_type": "stream",
          "name": "stdout",
          "text": [
            "\n",
            "Following is the A* Search:\n",
            "A C F B I \n",
            "Goal found with A*. Path: ['A', 'C', 'F', 'I']\n"
          ]
        }
      ]
    }
  ]
}
